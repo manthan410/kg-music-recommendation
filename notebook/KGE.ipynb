{
 "cells": [
  {
   "cell_type": "code",
   "execution_count": 2,
   "id": "edb3a097",
   "metadata": {},
   "outputs": [],
   "source": [
    "import pandas as pd\n",
    "import json\n",
    "import pickle"
   ]
  },
  {
   "cell_type": "code",
   "execution_count": 7,
   "id": "32aab017",
   "metadata": {},
   "outputs": [
    {
     "data": {
      "text/html": [
       "<div>\n",
       "<style scoped>\n",
       "    .dataframe tbody tr th:only-of-type {\n",
       "        vertical-align: middle;\n",
       "    }\n",
       "\n",
       "    .dataframe tbody tr th {\n",
       "        vertical-align: top;\n",
       "    }\n",
       "\n",
       "    .dataframe thead th {\n",
       "        text-align: right;\n",
       "    }\n",
       "</style>\n",
       "<table border=\"1\" class=\"dataframe\">\n",
       "  <thead>\n",
       "    <tr style=\"text-align: right;\">\n",
       "      <th></th>\n",
       "      <th>song_id</th>\n",
       "      <th>title</th>\n",
       "      <th>release</th>\n",
       "      <th>artist_name</th>\n",
       "      <th>year</th>\n",
       "      <th>tag</th>\n",
       "      <th>duration</th>\n",
       "      <th>listeners</th>\n",
       "      <th>playcount</th>\n",
       "      <th>image_url_large</th>\n",
       "      <th>image_url_exlarge</th>\n",
       "    </tr>\n",
       "  </thead>\n",
       "  <tbody>\n",
       "    <tr>\n",
       "      <th>0</th>\n",
       "      <td>SOQMMHC12AB0180CB8</td>\n",
       "      <td>Silent Night</td>\n",
       "      <td>Monster Ballads X-Mas</td>\n",
       "      <td>Faster Pussy cat</td>\n",
       "      <td>2003</td>\n",
       "      <td>[christmas, psychedelic, weird, metal, rock]</td>\n",
       "      <td>253000</td>\n",
       "      <td>1968</td>\n",
       "      <td>6601</td>\n",
       "      <td>https://lastfm.freetls.fastly.net/i/u/174s/a2e...</td>\n",
       "      <td>https://lastfm.freetls.fastly.net/i/u/300x300/...</td>\n",
       "    </tr>\n",
       "    <tr>\n",
       "      <th>1</th>\n",
       "      <td>SOVFVAK12A8C1350D9</td>\n",
       "      <td>Tanssi vaan</td>\n",
       "      <td>Karkuteillä</td>\n",
       "      <td>Karkkiautomaatti</td>\n",
       "      <td>1995</td>\n",
       "      <td>[]</td>\n",
       "      <td>155000</td>\n",
       "      <td>1586</td>\n",
       "      <td>4996</td>\n",
       "      <td>https://lastfm.freetls.fastly.net/i/u/174s/8e4...</td>\n",
       "      <td>https://lastfm.freetls.fastly.net/i/u/300x300/...</td>\n",
       "    </tr>\n",
       "    <tr>\n",
       "      <th>2</th>\n",
       "      <td>SOGTUKN12AB017F4F1</td>\n",
       "      <td>No One Could Ever</td>\n",
       "      <td>Butter</td>\n",
       "      <td>Hudson Mohawke</td>\n",
       "      <td>2006</td>\n",
       "      <td>[Hip-Hop, experimental, instrumental hip-hop, ...</td>\n",
       "      <td>139000</td>\n",
       "      <td>29044</td>\n",
       "      <td>116154</td>\n",
       "      <td>https://lastfm.freetls.fastly.net/i/u/174s/a82...</td>\n",
       "      <td>https://lastfm.freetls.fastly.net/i/u/300x300/...</td>\n",
       "    </tr>\n",
       "    <tr>\n",
       "      <th>3</th>\n",
       "      <td>SOBNYVR12A8C13558C</td>\n",
       "      <td>Si Vos Querés</td>\n",
       "      <td>De Culo</td>\n",
       "      <td>Yerba Brava</td>\n",
       "      <td>2003</td>\n",
       "      <td>[]</td>\n",
       "      <td>145000</td>\n",
       "      <td>27</td>\n",
       "      <td>45</td>\n",
       "      <td>n/a</td>\n",
       "      <td>n/a</td>\n",
       "    </tr>\n",
       "    <tr>\n",
       "      <th>4</th>\n",
       "      <td>SOHSBXH12A8C13B0DF</td>\n",
       "      <td>Tangle Of Aspens</td>\n",
       "      <td>Rene Ablaze Presents Winter Sessions</td>\n",
       "      <td>Der Mystic</td>\n",
       "      <td>0</td>\n",
       "      <td>[]</td>\n",
       "      <td>0</td>\n",
       "      <td>0</td>\n",
       "      <td>0</td>\n",
       "      <td>n/a</td>\n",
       "      <td>n/a</td>\n",
       "    </tr>\n",
       "    <tr>\n",
       "      <th>...</th>\n",
       "      <td>...</td>\n",
       "      <td>...</td>\n",
       "      <td>...</td>\n",
       "      <td>...</td>\n",
       "      <td>...</td>\n",
       "      <td>...</td>\n",
       "      <td>...</td>\n",
       "      <td>...</td>\n",
       "      <td>...</td>\n",
       "      <td>...</td>\n",
       "      <td>...</td>\n",
       "    </tr>\n",
       "    <tr>\n",
       "      <th>9995</th>\n",
       "      <td>SOGZRTH12A6D4F7A80</td>\n",
       "      <td>Niewinni I Ja Cz.I_ II</td>\n",
       "      <td>Pamieci Pawla Bergera</td>\n",
       "      <td>Dzem</td>\n",
       "      <td>0</td>\n",
       "      <td>[]</td>\n",
       "      <td>0</td>\n",
       "      <td>0</td>\n",
       "      <td>0</td>\n",
       "      <td>n/a</td>\n",
       "      <td>n/a</td>\n",
       "    </tr>\n",
       "    <tr>\n",
       "      <th>9996</th>\n",
       "      <td>SOHMERR12AB018A914</td>\n",
       "      <td>There Goes My Heart</td>\n",
       "      <td>Hot Numbers</td>\n",
       "      <td>THE INK SPOTS</td>\n",
       "      <td>2001</td>\n",
       "      <td>[]</td>\n",
       "      <td>217000</td>\n",
       "      <td>96</td>\n",
       "      <td>176</td>\n",
       "      <td>n/a</td>\n",
       "      <td>n/a</td>\n",
       "    </tr>\n",
       "    <tr>\n",
       "      <th>9997</th>\n",
       "      <td>SOKBPEM12AB018A1E0</td>\n",
       "      <td>Never Hold A Candle To Love</td>\n",
       "      <td>The Spence Manor Suite</td>\n",
       "      <td>Andrew Gold</td>\n",
       "      <td>0</td>\n",
       "      <td>[]</td>\n",
       "      <td>181000</td>\n",
       "      <td>248</td>\n",
       "      <td>476</td>\n",
       "      <td>https://lastfm.freetls.fastly.net/i/u/174s/1c2...</td>\n",
       "      <td>https://lastfm.freetls.fastly.net/i/u/300x300/...</td>\n",
       "    </tr>\n",
       "    <tr>\n",
       "      <th>9998</th>\n",
       "      <td>SOGBCVB12A58A77C2B</td>\n",
       "      <td>What Am I Gonna Do</td>\n",
       "      <td>The Legendary Kenny Rogers</td>\n",
       "      <td>Kenny Rogers</td>\n",
       "      <td>2003</td>\n",
       "      <td>[country]</td>\n",
       "      <td>0</td>\n",
       "      <td>1016</td>\n",
       "      <td>1962</td>\n",
       "      <td>n/a</td>\n",
       "      <td>n/a</td>\n",
       "    </tr>\n",
       "    <tr>\n",
       "      <th>9999</th>\n",
       "      <td>SOILYRZ12A58A7C40E</td>\n",
       "      <td>Little Drummer Boy</td>\n",
       "      <td>Classic Country Christmas</td>\n",
       "      <td>Nat Stuckey</td>\n",
       "      <td>0</td>\n",
       "      <td>[christmas]</td>\n",
       "      <td>0</td>\n",
       "      <td>66</td>\n",
       "      <td>141</td>\n",
       "      <td>https://lastfm.freetls.fastly.net/i/u/174s/f8b...</td>\n",
       "      <td>https://lastfm.freetls.fastly.net/i/u/300x300/...</td>\n",
       "    </tr>\n",
       "  </tbody>\n",
       "</table>\n",
       "<p>10000 rows × 11 columns</p>\n",
       "</div>"
      ],
      "text/plain": [
       "                 song_id                        title  \\\n",
       "0     SOQMMHC12AB0180CB8                 Silent Night   \n",
       "1     SOVFVAK12A8C1350D9                  Tanssi vaan   \n",
       "2     SOGTUKN12AB017F4F1            No One Could Ever   \n",
       "3     SOBNYVR12A8C13558C                Si Vos Querés   \n",
       "4     SOHSBXH12A8C13B0DF             Tangle Of Aspens   \n",
       "...                  ...                          ...   \n",
       "9995  SOGZRTH12A6D4F7A80       Niewinni I Ja Cz.I_ II   \n",
       "9996  SOHMERR12AB018A914          There Goes My Heart   \n",
       "9997  SOKBPEM12AB018A1E0  Never Hold A Candle To Love   \n",
       "9998  SOGBCVB12A58A77C2B           What Am I Gonna Do   \n",
       "9999  SOILYRZ12A58A7C40E           Little Drummer Boy   \n",
       "\n",
       "                                   release       artist_name  year  \\\n",
       "0                    Monster Ballads X-Mas  Faster Pussy cat  2003   \n",
       "1                              Karkuteillä  Karkkiautomaatti  1995   \n",
       "2                                   Butter    Hudson Mohawke  2006   \n",
       "3                                  De Culo       Yerba Brava  2003   \n",
       "4     Rene Ablaze Presents Winter Sessions        Der Mystic     0   \n",
       "...                                    ...               ...   ...   \n",
       "9995                 Pamieci Pawla Bergera              Dzem     0   \n",
       "9996                           Hot Numbers     THE INK SPOTS  2001   \n",
       "9997                The Spence Manor Suite       Andrew Gold     0   \n",
       "9998            The Legendary Kenny Rogers      Kenny Rogers  2003   \n",
       "9999             Classic Country Christmas       Nat Stuckey     0   \n",
       "\n",
       "                                                    tag  duration  listeners  \\\n",
       "0          [christmas, psychedelic, weird, metal, rock]    253000       1968   \n",
       "1                                                    []    155000       1586   \n",
       "2     [Hip-Hop, experimental, instrumental hip-hop, ...    139000      29044   \n",
       "3                                                    []    145000         27   \n",
       "4                                                    []         0          0   \n",
       "...                                                 ...       ...        ...   \n",
       "9995                                                 []         0          0   \n",
       "9996                                                 []    217000         96   \n",
       "9997                                                 []    181000        248   \n",
       "9998                                          [country]         0       1016   \n",
       "9999                                        [christmas]         0         66   \n",
       "\n",
       "      playcount                                    image_url_large  \\\n",
       "0          6601  https://lastfm.freetls.fastly.net/i/u/174s/a2e...   \n",
       "1          4996  https://lastfm.freetls.fastly.net/i/u/174s/8e4...   \n",
       "2        116154  https://lastfm.freetls.fastly.net/i/u/174s/a82...   \n",
       "3            45                                                n/a   \n",
       "4             0                                                n/a   \n",
       "...         ...                                                ...   \n",
       "9995          0                                                n/a   \n",
       "9996        176                                                n/a   \n",
       "9997        476  https://lastfm.freetls.fastly.net/i/u/174s/1c2...   \n",
       "9998       1962                                                n/a   \n",
       "9999        141  https://lastfm.freetls.fastly.net/i/u/174s/f8b...   \n",
       "\n",
       "                                      image_url_exlarge  \n",
       "0     https://lastfm.freetls.fastly.net/i/u/300x300/...  \n",
       "1     https://lastfm.freetls.fastly.net/i/u/300x300/...  \n",
       "2     https://lastfm.freetls.fastly.net/i/u/300x300/...  \n",
       "3                                                   n/a  \n",
       "4                                                   n/a  \n",
       "...                                                 ...  \n",
       "9995                                                n/a  \n",
       "9996                                                n/a  \n",
       "9997  https://lastfm.freetls.fastly.net/i/u/300x300/...  \n",
       "9998                                                n/a  \n",
       "9999  https://lastfm.freetls.fastly.net/i/u/300x300/...  \n",
       "\n",
       "[10000 rows x 11 columns]"
      ]
     },
     "execution_count": 7,
     "metadata": {},
     "output_type": "execute_result"
    }
   ],
   "source": [
    "df_s = pd.read_pickle('song_new.pkl')\n",
    "df_a = pd.read_pickle('artist_new.pkl')\n",
    "df_u = pd.read_pickle('user_new.pkl')\n",
    "df_s"
   ]
  },
  {
   "cell_type": "code",
   "execution_count": 24,
   "id": "70427b97",
   "metadata": {},
   "outputs": [
    {
     "data": {
      "text/html": [
       "<div>\n",
       "<style scoped>\n",
       "    .dataframe tbody tr th:only-of-type {\n",
       "        vertical-align: middle;\n",
       "    }\n",
       "\n",
       "    .dataframe tbody tr th {\n",
       "        vertical-align: top;\n",
       "    }\n",
       "\n",
       "    .dataframe thead th {\n",
       "        text-align: right;\n",
       "    }\n",
       "</style>\n",
       "<table border=\"1\" class=\"dataframe\">\n",
       "  <thead>\n",
       "    <tr style=\"text-align: right;\">\n",
       "      <th></th>\n",
       "      <th>song_id</th>\n",
       "      <th>title</th>\n",
       "      <th>release</th>\n",
       "      <th>artist_name</th>\n",
       "      <th>year</th>\n",
       "      <th>tag</th>\n",
       "      <th>duration</th>\n",
       "      <th>listeners</th>\n",
       "      <th>playcount</th>\n",
       "      <th>image_url_large</th>\n",
       "      <th>image_url_exlarge</th>\n",
       "    </tr>\n",
       "  </thead>\n",
       "  <tbody>\n",
       "    <tr>\n",
       "      <th>0</th>\n",
       "      <td>SOQMMHC12AB0180CB8</td>\n",
       "      <td>Silent Night</td>\n",
       "      <td>Monster Ballads X-Mas</td>\n",
       "      <td>Faster Pussy cat</td>\n",
       "      <td>2003</td>\n",
       "      <td>[christmas, psychedelic, weird, metal, rock]</td>\n",
       "      <td>253000</td>\n",
       "      <td>1968</td>\n",
       "      <td>6601</td>\n",
       "      <td>https://lastfm.freetls.fastly.net/i/u/174s/a2e...</td>\n",
       "      <td>https://lastfm.freetls.fastly.net/i/u/300x300/...</td>\n",
       "    </tr>\n",
       "    <tr>\n",
       "      <th>1</th>\n",
       "      <td>SOVFVAK12A8C1350D9</td>\n",
       "      <td>Tanssi vaan</td>\n",
       "      <td>Karkuteillä</td>\n",
       "      <td>Karkkiautomaatti</td>\n",
       "      <td>1995</td>\n",
       "      <td>[]</td>\n",
       "      <td>155000</td>\n",
       "      <td>1586</td>\n",
       "      <td>4996</td>\n",
       "      <td>https://lastfm.freetls.fastly.net/i/u/174s/8e4...</td>\n",
       "      <td>https://lastfm.freetls.fastly.net/i/u/300x300/...</td>\n",
       "    </tr>\n",
       "    <tr>\n",
       "      <th>2</th>\n",
       "      <td>SOGTUKN12AB017F4F1</td>\n",
       "      <td>No One Could Ever</td>\n",
       "      <td>Butter</td>\n",
       "      <td>Hudson Mohawke</td>\n",
       "      <td>2006</td>\n",
       "      <td>[Hip-Hop, experimental, instrumental hip-hop, ...</td>\n",
       "      <td>139000</td>\n",
       "      <td>29044</td>\n",
       "      <td>116154</td>\n",
       "      <td>https://lastfm.freetls.fastly.net/i/u/174s/a82...</td>\n",
       "      <td>https://lastfm.freetls.fastly.net/i/u/300x300/...</td>\n",
       "    </tr>\n",
       "    <tr>\n",
       "      <th>3</th>\n",
       "      <td>SOBNYVR12A8C13558C</td>\n",
       "      <td>Si Vos Querés</td>\n",
       "      <td>De Culo</td>\n",
       "      <td>Yerba Brava</td>\n",
       "      <td>2003</td>\n",
       "      <td>[]</td>\n",
       "      <td>145000</td>\n",
       "      <td>27</td>\n",
       "      <td>45</td>\n",
       "      <td>n/a</td>\n",
       "      <td>n/a</td>\n",
       "    </tr>\n",
       "    <tr>\n",
       "      <th>4</th>\n",
       "      <td>SOHSBXH12A8C13B0DF</td>\n",
       "      <td>Tangle Of Aspens</td>\n",
       "      <td>Rene Ablaze Presents Winter Sessions</td>\n",
       "      <td>Der Mystic</td>\n",
       "      <td>0</td>\n",
       "      <td>[]</td>\n",
       "      <td>0</td>\n",
       "      <td>0</td>\n",
       "      <td>0</td>\n",
       "      <td>n/a</td>\n",
       "      <td>n/a</td>\n",
       "    </tr>\n",
       "  </tbody>\n",
       "</table>\n",
       "</div>"
      ],
      "text/plain": [
       "              song_id              title  \\\n",
       "0  SOQMMHC12AB0180CB8       Silent Night   \n",
       "1  SOVFVAK12A8C1350D9        Tanssi vaan   \n",
       "2  SOGTUKN12AB017F4F1  No One Could Ever   \n",
       "3  SOBNYVR12A8C13558C      Si Vos Querés   \n",
       "4  SOHSBXH12A8C13B0DF   Tangle Of Aspens   \n",
       "\n",
       "                                release       artist_name  year  \\\n",
       "0                 Monster Ballads X-Mas  Faster Pussy cat  2003   \n",
       "1                           Karkuteillä  Karkkiautomaatti  1995   \n",
       "2                                Butter    Hudson Mohawke  2006   \n",
       "3                               De Culo       Yerba Brava  2003   \n",
       "4  Rene Ablaze Presents Winter Sessions        Der Mystic     0   \n",
       "\n",
       "                                                 tag  duration  listeners  \\\n",
       "0       [christmas, psychedelic, weird, metal, rock]    253000       1968   \n",
       "1                                                 []    155000       1586   \n",
       "2  [Hip-Hop, experimental, instrumental hip-hop, ...    139000      29044   \n",
       "3                                                 []    145000         27   \n",
       "4                                                 []         0          0   \n",
       "\n",
       "   playcount                                    image_url_large  \\\n",
       "0       6601  https://lastfm.freetls.fastly.net/i/u/174s/a2e...   \n",
       "1       4996  https://lastfm.freetls.fastly.net/i/u/174s/8e4...   \n",
       "2     116154  https://lastfm.freetls.fastly.net/i/u/174s/a82...   \n",
       "3         45                                                n/a   \n",
       "4          0                                                n/a   \n",
       "\n",
       "                                   image_url_exlarge  \n",
       "0  https://lastfm.freetls.fastly.net/i/u/300x300/...  \n",
       "1  https://lastfm.freetls.fastly.net/i/u/300x300/...  \n",
       "2  https://lastfm.freetls.fastly.net/i/u/300x300/...  \n",
       "3                                                n/a  \n",
       "4                                                n/a  "
      ]
     },
     "execution_count": 24,
     "metadata": {},
     "output_type": "execute_result"
    }
   ],
   "source": [
    "df_s.head(5)"
   ]
  },
  {
   "cell_type": "code",
   "execution_count": 20,
   "id": "07f7e584",
   "metadata": {},
   "outputs": [
    {
     "data": {
      "text/html": [
       "<div>\n",
       "<style scoped>\n",
       "    .dataframe tbody tr th:only-of-type {\n",
       "        vertical-align: middle;\n",
       "    }\n",
       "\n",
       "    .dataframe tbody tr th {\n",
       "        vertical-align: top;\n",
       "    }\n",
       "\n",
       "    .dataframe thead th {\n",
       "        text-align: right;\n",
       "    }\n",
       "</style>\n",
       "<table border=\"1\" class=\"dataframe\">\n",
       "  <thead>\n",
       "    <tr style=\"text-align: right;\">\n",
       "      <th></th>\n",
       "      <th>artist_name</th>\n",
       "      <th>content</th>\n",
       "      <th>summary</th>\n",
       "      <th>artist_listeners</th>\n",
       "      <th>artist_playcount</th>\n",
       "      <th>artist_tag</th>\n",
       "      <th>artist_image_url_large</th>\n",
       "      <th>artist_image_url_exlarge</th>\n",
       "    </tr>\n",
       "  </thead>\n",
       "  <tbody>\n",
       "    <tr>\n",
       "      <th>0</th>\n",
       "      <td>Faster Pussy cat</td>\n",
       "      <td></td>\n",
       "      <td>&lt;a href=\"https://www.last.fm/music/+noredirec...</td>\n",
       "      <td>1</td>\n",
       "      <td>2</td>\n",
       "      <td>[]</td>\n",
       "      <td>n/a</td>\n",
       "      <td>n/a</td>\n",
       "    </tr>\n",
       "    <tr>\n",
       "      <th>1</th>\n",
       "      <td>Karkkiautomaatti</td>\n",
       "      <td>Karkkiautomaatti (which is 'Candy vending mach...</td>\n",
       "      <td>Karkkiautomaatti (which is 'Candy vending mach...</td>\n",
       "      <td>9727</td>\n",
       "      <td>281102</td>\n",
       "      <td>[finnish, indie, indie pop, pop, seen live]</td>\n",
       "      <td>https://lastfm.freetls.fastly.net/i/u/174s/2a9...</td>\n",
       "      <td>https://lastfm.freetls.fastly.net/i/u/300x300/...</td>\n",
       "    </tr>\n",
       "    <tr>\n",
       "      <th>2</th>\n",
       "      <td>Hudson Mohawke</td>\n",
       "      <td>Hudson Mohawke, (b. Ross Birchard), also known...</td>\n",
       "      <td>Hudson Mohawke, (b. Ross Birchard), also known...</td>\n",
       "      <td>421421</td>\n",
       "      <td>6620191</td>\n",
       "      <td>[electronic, experimental, Hip-Hop, seen live,...</td>\n",
       "      <td>https://lastfm.freetls.fastly.net/i/u/174s/2a9...</td>\n",
       "      <td>https://lastfm.freetls.fastly.net/i/u/300x300/...</td>\n",
       "    </tr>\n",
       "    <tr>\n",
       "      <th>3</th>\n",
       "      <td>Yerba Brava</td>\n",
       "      <td>An argentinean cumbia villera band. Good to da...</td>\n",
       "      <td>An argentinean cumbia villera band. Good to da...</td>\n",
       "      <td>26158</td>\n",
       "      <td>169921</td>\n",
       "      <td>[cumbia, Cumbia villera, southern elite circle...</td>\n",
       "      <td>https://lastfm.freetls.fastly.net/i/u/174s/2a9...</td>\n",
       "      <td>https://lastfm.freetls.fastly.net/i/u/300x300/...</td>\n",
       "    </tr>\n",
       "    <tr>\n",
       "      <th>4</th>\n",
       "      <td>Der Mystic</td>\n",
       "      <td></td>\n",
       "      <td>&lt;a href=\"https://www.last.fm/music/+noredirec...</td>\n",
       "      <td>2</td>\n",
       "      <td>4</td>\n",
       "      <td>[]</td>\n",
       "      <td>n/a</td>\n",
       "      <td>n/a</td>\n",
       "    </tr>\n",
       "  </tbody>\n",
       "</table>\n",
       "</div>"
      ],
      "text/plain": [
       "        artist_name                                            content  \\\n",
       "0  Faster Pussy cat                                                      \n",
       "1  Karkkiautomaatti  Karkkiautomaatti (which is 'Candy vending mach...   \n",
       "2    Hudson Mohawke  Hudson Mohawke, (b. Ross Birchard), also known...   \n",
       "3       Yerba Brava  An argentinean cumbia villera band. Good to da...   \n",
       "4        Der Mystic                                                      \n",
       "\n",
       "                                             summary artist_listeners  \\\n",
       "0   <a href=\"https://www.last.fm/music/+noredirec...                1   \n",
       "1  Karkkiautomaatti (which is 'Candy vending mach...             9727   \n",
       "2  Hudson Mohawke, (b. Ross Birchard), also known...           421421   \n",
       "3  An argentinean cumbia villera band. Good to da...            26158   \n",
       "4   <a href=\"https://www.last.fm/music/+noredirec...                2   \n",
       "\n",
       "  artist_playcount                                         artist_tag  \\\n",
       "0                2                                                 []   \n",
       "1           281102        [finnish, indie, indie pop, pop, seen live]   \n",
       "2          6620191  [electronic, experimental, Hip-Hop, seen live,...   \n",
       "3           169921  [cumbia, Cumbia villera, southern elite circle...   \n",
       "4                4                                                 []   \n",
       "\n",
       "                              artist_image_url_large  \\\n",
       "0                                                n/a   \n",
       "1  https://lastfm.freetls.fastly.net/i/u/174s/2a9...   \n",
       "2  https://lastfm.freetls.fastly.net/i/u/174s/2a9...   \n",
       "3  https://lastfm.freetls.fastly.net/i/u/174s/2a9...   \n",
       "4                                                n/a   \n",
       "\n",
       "                            artist_image_url_exlarge  \n",
       "0                                                n/a  \n",
       "1  https://lastfm.freetls.fastly.net/i/u/300x300/...  \n",
       "2  https://lastfm.freetls.fastly.net/i/u/300x300/...  \n",
       "3  https://lastfm.freetls.fastly.net/i/u/300x300/...  \n",
       "4                                                n/a  "
      ]
     },
     "execution_count": 20,
     "metadata": {},
     "output_type": "execute_result"
    }
   ],
   "source": [
    "df_a.head(5)"
   ]
  },
  {
   "cell_type": "code",
   "execution_count": 21,
   "id": "9676beb8",
   "metadata": {},
   "outputs": [
    {
     "data": {
      "text/html": [
       "<div>\n",
       "<style scoped>\n",
       "    .dataframe tbody tr th:only-of-type {\n",
       "        vertical-align: middle;\n",
       "    }\n",
       "\n",
       "    .dataframe tbody tr th {\n",
       "        vertical-align: top;\n",
       "    }\n",
       "\n",
       "    .dataframe thead th {\n",
       "        text-align: right;\n",
       "    }\n",
       "</style>\n",
       "<table border=\"1\" class=\"dataframe\">\n",
       "  <thead>\n",
       "    <tr style=\"text-align: right;\">\n",
       "      <th></th>\n",
       "      <th>user_id</th>\n",
       "      <th>song_id</th>\n",
       "      <th>listen_count</th>\n",
       "    </tr>\n",
       "  </thead>\n",
       "  <tbody>\n",
       "    <tr>\n",
       "      <th>1</th>\n",
       "      <td>b80344d063b5ccb3212f76538f3d9e43d87dca9e</td>\n",
       "      <td>SOBBMDR12A8C13253B</td>\n",
       "      <td>2</td>\n",
       "    </tr>\n",
       "    <tr>\n",
       "      <th>266</th>\n",
       "      <td>17aa9f6dbdf753831da8f38c71b66b64373de613</td>\n",
       "      <td>SONMWXV12AB01803B4</td>\n",
       "      <td>1</td>\n",
       "    </tr>\n",
       "    <tr>\n",
       "      <th>334</th>\n",
       "      <td>d6589314c0a9bcbca4fee0c93b14bc402363afea</td>\n",
       "      <td>SOSZNRJ12A8AE46E38</td>\n",
       "      <td>6</td>\n",
       "    </tr>\n",
       "    <tr>\n",
       "      <th>354</th>\n",
       "      <td>5a905f000fc1ff3df7ca807d57edb608863db05d</td>\n",
       "      <td>SOAKDHD12A6310F1AE</td>\n",
       "      <td>1</td>\n",
       "    </tr>\n",
       "    <tr>\n",
       "      <th>397</th>\n",
       "      <td>5a905f000fc1ff3df7ca807d57edb608863db05d</td>\n",
       "      <td>SOCXGVX12A67AD85A1</td>\n",
       "      <td>1</td>\n",
       "    </tr>\n",
       "  </tbody>\n",
       "</table>\n",
       "</div>"
      ],
      "text/plain": [
       "                                      user_id             song_id  \\\n",
       "1    b80344d063b5ccb3212f76538f3d9e43d87dca9e  SOBBMDR12A8C13253B   \n",
       "266  17aa9f6dbdf753831da8f38c71b66b64373de613  SONMWXV12AB01803B4   \n",
       "334  d6589314c0a9bcbca4fee0c93b14bc402363afea  SOSZNRJ12A8AE46E38   \n",
       "354  5a905f000fc1ff3df7ca807d57edb608863db05d  SOAKDHD12A6310F1AE   \n",
       "397  5a905f000fc1ff3df7ca807d57edb608863db05d  SOCXGVX12A67AD85A1   \n",
       "\n",
       "     listen_count  \n",
       "1               2  \n",
       "266             1  \n",
       "334             6  \n",
       "354             1  \n",
       "397             1  "
      ]
     },
     "execution_count": 21,
     "metadata": {},
     "output_type": "execute_result"
    }
   ],
   "source": [
    "df_u.head(5)"
   ]
  },
  {
   "cell_type": "code",
   "execution_count": 7,
   "id": "6560f127",
   "metadata": {},
   "outputs": [
    {
     "data": {
      "text/plain": [
       "245                             Anyone Else But You\n",
       "412                             Drunk and Hot Girls\n",
       "464             Until The Day I Die (Album Version)\n",
       "484                                   Rewind (Demo)\n",
       "548                                 Never Knew Love\n",
       "                           ...                     \n",
       "9368                                          a joy\n",
       "9439    Once In A Lifetime (Remastered LP Version )\n",
       "9503                       Same Hood_ Different Day\n",
       "9630                          The Storm Is Over Now\n",
       "9854                            Darlin' Do Not Fear\n",
       "Name: title, Length: 104, dtype: object"
      ]
     },
     "execution_count": 7,
     "metadata": {},
     "output_type": "execute_result"
    }
   ],
   "source": [
    "df_s.loc[df_s['song_id'].isin(df_u['song_id'])].title"
   ]
  },
  {
   "cell_type": "code",
   "execution_count": 8,
   "id": "941d0446",
   "metadata": {},
   "outputs": [
    {
     "data": {
      "text/plain": [
       "['Entre Dos Aguas']"
      ]
     },
     "execution_count": 8,
     "metadata": {},
     "output_type": "execute_result"
    }
   ],
   "source": [
    "t = df_s[df_s['song_id'] == df_u['song_id'][1]]\n",
    "ts = t['title'].tolist()\n",
    "ts"
   ]
  },
  {
   "cell_type": "code",
   "execution_count": 9,
   "id": "e9bbfeeb",
   "metadata": {},
   "outputs": [
    {
     "data": {
      "text/plain": [
       "'Entre Dos Aguas'"
      ]
     },
     "execution_count": 9,
     "metadata": {},
     "output_type": "execute_result"
    }
   ],
   "source": [
    "ts[0]"
   ]
  },
  {
   "cell_type": "code",
   "execution_count": 10,
   "id": "9749fc9d",
   "metadata": {},
   "outputs": [
    {
     "data": {
      "text/html": [
       "<div>\n",
       "<style scoped>\n",
       "    .dataframe tbody tr th:only-of-type {\n",
       "        vertical-align: middle;\n",
       "    }\n",
       "\n",
       "    .dataframe tbody tr th {\n",
       "        vertical-align: top;\n",
       "    }\n",
       "\n",
       "    .dataframe thead th {\n",
       "        text-align: right;\n",
       "    }\n",
       "</style>\n",
       "<table border=\"1\" class=\"dataframe\">\n",
       "  <thead>\n",
       "    <tr style=\"text-align: right;\">\n",
       "      <th></th>\n",
       "      <th>subject</th>\n",
       "      <th>predicate</th>\n",
       "      <th>object</th>\n",
       "    </tr>\n",
       "  </thead>\n",
       "  <tbody>\n",
       "    <tr>\n",
       "      <th>0</th>\n",
       "      <td>b80344d063b5ccb3212f76538f3d9e43d87dca9e</td>\n",
       "      <td>listens_to</td>\n",
       "      <td>Entre Dos Aguas</td>\n",
       "    </tr>\n",
       "    <tr>\n",
       "      <th>1</th>\n",
       "      <td>b80344d063b5ccb3212f76538f3d9e43d87dca9e</td>\n",
       "      <td>listen_count</td>\n",
       "      <td>2</td>\n",
       "    </tr>\n",
       "    <tr>\n",
       "      <th>2</th>\n",
       "      <td>2</td>\n",
       "      <td>for_track</td>\n",
       "      <td>Entre Dos Aguas</td>\n",
       "    </tr>\n",
       "    <tr>\n",
       "      <th>3</th>\n",
       "      <td>Entre Dos Aguas</td>\n",
       "      <td>made_by</td>\n",
       "      <td>Paco De Lucia</td>\n",
       "    </tr>\n",
       "    <tr>\n",
       "      <th>4</th>\n",
       "      <td>Entre Dos Aguas</td>\n",
       "      <td>belongs_to</td>\n",
       "      <td>Flamenco Para Niños</td>\n",
       "    </tr>\n",
       "    <tr>\n",
       "      <th>5</th>\n",
       "      <td>17aa9f6dbdf753831da8f38c71b66b64373de613</td>\n",
       "      <td>listens_to</td>\n",
       "      <td>Year 3000</td>\n",
       "    </tr>\n",
       "    <tr>\n",
       "      <th>6</th>\n",
       "      <td>17aa9f6dbdf753831da8f38c71b66b64373de613</td>\n",
       "      <td>listen_count</td>\n",
       "      <td>1</td>\n",
       "    </tr>\n",
       "    <tr>\n",
       "      <th>7</th>\n",
       "      <td>1</td>\n",
       "      <td>for_track</td>\n",
       "      <td>Year 3000</td>\n",
       "    </tr>\n",
       "    <tr>\n",
       "      <th>8</th>\n",
       "      <td>Year 3000</td>\n",
       "      <td>made_by</td>\n",
       "      <td>Jonas Brothers</td>\n",
       "    </tr>\n",
       "    <tr>\n",
       "      <th>9</th>\n",
       "      <td>Year 3000</td>\n",
       "      <td>belongs_to</td>\n",
       "      <td>S.O.S</td>\n",
       "    </tr>\n",
       "  </tbody>\n",
       "</table>\n",
       "</div>"
      ],
      "text/plain": [
       "                                    subject     predicate               object\n",
       "0  b80344d063b5ccb3212f76538f3d9e43d87dca9e    listens_to      Entre Dos Aguas\n",
       "1  b80344d063b5ccb3212f76538f3d9e43d87dca9e  listen_count                    2\n",
       "2                                         2     for_track      Entre Dos Aguas\n",
       "3                           Entre Dos Aguas       made_by        Paco De Lucia\n",
       "4                           Entre Dos Aguas    belongs_to  Flamenco Para Niños\n",
       "5  17aa9f6dbdf753831da8f38c71b66b64373de613    listens_to            Year 3000\n",
       "6  17aa9f6dbdf753831da8f38c71b66b64373de613  listen_count                    1\n",
       "7                                         1     for_track            Year 3000\n",
       "8                                 Year 3000       made_by       Jonas Brothers\n",
       "9                                 Year 3000    belongs_to                S.O.S"
      ]
     },
     "execution_count": 10,
     "metadata": {},
     "output_type": "execute_result"
    }
   ],
   "source": [
    "triple = []\n",
    "for _, rows in df_u.iterrows():\n",
    "    temp = df_s.loc[df_s['song_id'] == rows['song_id']]\n",
    "    temp_title = temp['title'].tolist()\n",
    "    temp_artist = temp['artist_name'].tolist()\n",
    "    temp_album = temp['release'].tolist()\n",
    "    t = (str(rows['user_id']), 'listens_to', str(temp_title[0]))\n",
    "    tc = (str(rows['user_id']), 'listen_count', str(rows['listen_count']))\n",
    "    tu = (str(rows['listen_count']), 'for_track', str(temp_title[0]))\n",
    "    s = (str(temp_title[0]), 'made_by', str(temp_artist[0]))\n",
    "    a = (str(temp_title[0]), 'belongs_to', str(temp_album[0]))\n",
    "    triple.extend((t, tc, tu, s, a))\n",
    "triples_df = pd.DataFrame(triple, columns=['subject', 'predicate', 'object'])\n",
    "triples_df.head(10)"
   ]
  },
  {
   "cell_type": "code",
   "execution_count": 11,
   "id": "8980aa58",
   "metadata": {},
   "outputs": [
    {
     "name": "stdout",
     "output_type": "stream",
     "text": [
      "<class 'pandas.core.frame.DataFrame'>\n",
      "RangeIndex: 104600 entries, 0 to 104599\n",
      "Data columns (total 3 columns):\n",
      " #   Column     Non-Null Count   Dtype \n",
      "---  ------     --------------   ----- \n",
      " 0   subject    104600 non-null  object\n",
      " 1   predicate  104600 non-null  object\n",
      " 2   object     104600 non-null  object\n",
      "dtypes: object(3)\n",
      "memory usage: 2.4+ MB\n",
      "None\n",
      "63369\n"
     ]
    }
   ],
   "source": [
    "print(triples_df.info())\n",
    "print(triples_df.duplicated().sum())"
   ]
  },
  {
   "cell_type": "code",
   "execution_count": 12,
   "id": "290907a3",
   "metadata": {},
   "outputs": [
    {
     "data": {
      "text/html": [
       "<div>\n",
       "<style scoped>\n",
       "    .dataframe tbody tr th:only-of-type {\n",
       "        vertical-align: middle;\n",
       "    }\n",
       "\n",
       "    .dataframe tbody tr th {\n",
       "        vertical-align: top;\n",
       "    }\n",
       "\n",
       "    .dataframe thead th {\n",
       "        text-align: right;\n",
       "    }\n",
       "</style>\n",
       "<table border=\"1\" class=\"dataframe\">\n",
       "  <thead>\n",
       "    <tr style=\"text-align: right;\">\n",
       "      <th></th>\n",
       "      <th>subject</th>\n",
       "      <th>predicate</th>\n",
       "      <th>object</th>\n",
       "    </tr>\n",
       "  </thead>\n",
       "  <tbody>\n",
       "    <tr>\n",
       "      <th>0</th>\n",
       "      <td>Silent Night</td>\n",
       "      <td>made_by</td>\n",
       "      <td>Faster Pussy cat</td>\n",
       "    </tr>\n",
       "    <tr>\n",
       "      <th>1</th>\n",
       "      <td>Silent Night</td>\n",
       "      <td>belongs_to</td>\n",
       "      <td>Monster Ballads X-Mas</td>\n",
       "    </tr>\n",
       "    <tr>\n",
       "      <th>2</th>\n",
       "      <td>Tanssi vaan</td>\n",
       "      <td>made_by</td>\n",
       "      <td>Karkkiautomaatti</td>\n",
       "    </tr>\n",
       "    <tr>\n",
       "      <th>3</th>\n",
       "      <td>Tanssi vaan</td>\n",
       "      <td>belongs_to</td>\n",
       "      <td>Karkuteillä</td>\n",
       "    </tr>\n",
       "    <tr>\n",
       "      <th>4</th>\n",
       "      <td>No One Could Ever</td>\n",
       "      <td>made_by</td>\n",
       "      <td>Hudson Mohawke</td>\n",
       "    </tr>\n",
       "  </tbody>\n",
       "</table>\n",
       "</div>"
      ],
      "text/plain": [
       "             subject   predicate                 object\n",
       "0       Silent Night     made_by       Faster Pussy cat\n",
       "1       Silent Night  belongs_to  Monster Ballads X-Mas\n",
       "2        Tanssi vaan     made_by       Karkkiautomaatti\n",
       "3        Tanssi vaan  belongs_to            Karkuteillä\n",
       "4  No One Could Ever     made_by         Hudson Mohawke"
      ]
     },
     "execution_count": 12,
     "metadata": {},
     "output_type": "execute_result"
    }
   ],
   "source": [
    "triple_ex = []\n",
    "for _, r in df_s.iterrows():\n",
    "    t = (str(r['title']), 'made_by', str(r['artist_name']))\n",
    "    a = (str(r['title']), 'belongs_to', str(r['release']))\n",
    "    triple_ex.extend((t, a))\n",
    "triple_ex_df = pd.DataFrame(triple_ex, columns=['subject', 'predicate', 'object'])\n",
    "triple_ex_df.head(5)"
   ]
  },
  {
   "cell_type": "code",
   "execution_count": 13,
   "id": "ced94978",
   "metadata": {},
   "outputs": [
    {
     "name": "stdout",
     "output_type": "stream",
     "text": [
      "<class 'pandas.core.frame.DataFrame'>\n",
      "RangeIndex: 20000 entries, 0 to 19999\n",
      "Data columns (total 3 columns):\n",
      " #   Column     Non-Null Count  Dtype \n",
      "---  ------     --------------  ----- \n",
      " 0   subject    20000 non-null  object\n",
      " 1   predicate  20000 non-null  object\n",
      " 2   object     20000 non-null  object\n",
      "dtypes: object(3)\n",
      "memory usage: 468.9+ KB\n"
     ]
    }
   ],
   "source": [
    "triple_ex_df.info()"
   ]
  },
  {
   "cell_type": "code",
   "execution_count": 14,
   "id": "6a65f579",
   "metadata": {},
   "outputs": [
    {
     "data": {
      "text/html": [
       "<div>\n",
       "<style scoped>\n",
       "    .dataframe tbody tr th:only-of-type {\n",
       "        vertical-align: middle;\n",
       "    }\n",
       "\n",
       "    .dataframe tbody tr th {\n",
       "        vertical-align: top;\n",
       "    }\n",
       "\n",
       "    .dataframe thead th {\n",
       "        text-align: right;\n",
       "    }\n",
       "</style>\n",
       "<table border=\"1\" class=\"dataframe\">\n",
       "  <thead>\n",
       "    <tr style=\"text-align: right;\">\n",
       "      <th></th>\n",
       "      <th>subject</th>\n",
       "      <th>predicate</th>\n",
       "      <th>object</th>\n",
       "    </tr>\n",
       "  </thead>\n",
       "  <tbody>\n",
       "    <tr>\n",
       "      <th>0</th>\n",
       "      <td>b80344d063b5ccb3212f76538f3d9e43d87dca9e</td>\n",
       "      <td>listens_to</td>\n",
       "      <td>Entre Dos Aguas</td>\n",
       "    </tr>\n",
       "    <tr>\n",
       "      <th>1</th>\n",
       "      <td>b80344d063b5ccb3212f76538f3d9e43d87dca9e</td>\n",
       "      <td>listen_count</td>\n",
       "      <td>2</td>\n",
       "    </tr>\n",
       "    <tr>\n",
       "      <th>2</th>\n",
       "      <td>2</td>\n",
       "      <td>for_track</td>\n",
       "      <td>Entre Dos Aguas</td>\n",
       "    </tr>\n",
       "    <tr>\n",
       "      <th>3</th>\n",
       "      <td>Entre Dos Aguas</td>\n",
       "      <td>made_by</td>\n",
       "      <td>Paco De Lucia</td>\n",
       "    </tr>\n",
       "    <tr>\n",
       "      <th>4</th>\n",
       "      <td>Entre Dos Aguas</td>\n",
       "      <td>belongs_to</td>\n",
       "      <td>Flamenco Para Niños</td>\n",
       "    </tr>\n",
       "    <tr>\n",
       "      <th>5</th>\n",
       "      <td>17aa9f6dbdf753831da8f38c71b66b64373de613</td>\n",
       "      <td>listens_to</td>\n",
       "      <td>Year 3000</td>\n",
       "    </tr>\n",
       "    <tr>\n",
       "      <th>6</th>\n",
       "      <td>17aa9f6dbdf753831da8f38c71b66b64373de613</td>\n",
       "      <td>listen_count</td>\n",
       "      <td>1</td>\n",
       "    </tr>\n",
       "    <tr>\n",
       "      <th>7</th>\n",
       "      <td>1</td>\n",
       "      <td>for_track</td>\n",
       "      <td>Year 3000</td>\n",
       "    </tr>\n",
       "    <tr>\n",
       "      <th>8</th>\n",
       "      <td>Year 3000</td>\n",
       "      <td>made_by</td>\n",
       "      <td>Jonas Brothers</td>\n",
       "    </tr>\n",
       "    <tr>\n",
       "      <th>9</th>\n",
       "      <td>Year 3000</td>\n",
       "      <td>belongs_to</td>\n",
       "      <td>S.O.S</td>\n",
       "    </tr>\n",
       "  </tbody>\n",
       "</table>\n",
       "</div>"
      ],
      "text/plain": [
       "                                    subject     predicate               object\n",
       "0  b80344d063b5ccb3212f76538f3d9e43d87dca9e    listens_to      Entre Dos Aguas\n",
       "1  b80344d063b5ccb3212f76538f3d9e43d87dca9e  listen_count                    2\n",
       "2                                         2     for_track      Entre Dos Aguas\n",
       "3                           Entre Dos Aguas       made_by        Paco De Lucia\n",
       "4                           Entre Dos Aguas    belongs_to  Flamenco Para Niños\n",
       "5  17aa9f6dbdf753831da8f38c71b66b64373de613    listens_to            Year 3000\n",
       "6  17aa9f6dbdf753831da8f38c71b66b64373de613  listen_count                    1\n",
       "7                                         1     for_track            Year 3000\n",
       "8                                 Year 3000       made_by       Jonas Brothers\n",
       "9                                 Year 3000    belongs_to                S.O.S"
      ]
     },
     "execution_count": 14,
     "metadata": {},
     "output_type": "execute_result"
    }
   ],
   "source": [
    "triple_df_f = pd.concat([triples_df, triple_ex_df], axis=0)\n",
    "triple_df_f.head(10)"
   ]
  },
  {
   "cell_type": "code",
   "execution_count": 15,
   "id": "4df958be",
   "metadata": {},
   "outputs": [
    {
     "name": "stdout",
     "output_type": "stream",
     "text": [
      "<class 'pandas.core.frame.DataFrame'>\n",
      "Int64Index: 124600 entries, 0 to 19999\n",
      "Data columns (total 3 columns):\n",
      " #   Column     Non-Null Count   Dtype \n",
      "---  ------     --------------   ----- \n",
      " 0   subject    124600 non-null  object\n",
      " 1   predicate  124600 non-null  object\n",
      " 2   object     124600 non-null  object\n",
      "dtypes: object(3)\n",
      "memory usage: 3.8+ MB\n"
     ]
    }
   ],
   "source": [
    "triple_df_f.info()"
   ]
  },
  {
   "cell_type": "code",
   "execution_count": 16,
   "id": "cddc223f",
   "metadata": {},
   "outputs": [
    {
     "data": {
      "text/plain": [
       "63592"
      ]
     },
     "execution_count": 16,
     "metadata": {},
     "output_type": "execute_result"
    }
   ],
   "source": [
    "triple_df_f.duplicated().sum()"
   ]
  },
  {
   "cell_type": "code",
   "execution_count": 17,
   "id": "3e2b1d11",
   "metadata": {},
   "outputs": [
    {
     "data": {
      "text/plain": [
       "0"
      ]
     },
     "execution_count": 17,
     "metadata": {},
     "output_type": "execute_result"
    }
   ],
   "source": [
    "triple_df_f = triple_df_f.drop_duplicates()\n",
    "triple_df_f.duplicated().sum()"
   ]
  },
  {
   "cell_type": "code",
   "execution_count": 18,
   "id": "67efafa8",
   "metadata": {},
   "outputs": [
    {
     "name": "stdout",
     "output_type": "stream",
     "text": [
      "<class 'pandas.core.frame.DataFrame'>\n",
      "Int64Index: 61008 entries, 0 to 19999\n",
      "Data columns (total 3 columns):\n",
      " #   Column     Non-Null Count  Dtype \n",
      "---  ------     --------------  ----- \n",
      " 0   subject    61008 non-null  object\n",
      " 1   predicate  61008 non-null  object\n",
      " 2   object     61008 non-null  object\n",
      "dtypes: object(3)\n",
      "memory usage: 1.9+ MB\n"
     ]
    }
   ],
   "source": [
    "triple_df_f.info()"
   ]
  },
  {
   "cell_type": "code",
   "execution_count": 19,
   "id": "4ac1535a",
   "metadata": {},
   "outputs": [
    {
     "data": {
      "text/html": [
       "<div>\n",
       "<style scoped>\n",
       "    .dataframe tbody tr th:only-of-type {\n",
       "        vertical-align: middle;\n",
       "    }\n",
       "\n",
       "    .dataframe tbody tr th {\n",
       "        vertical-align: top;\n",
       "    }\n",
       "\n",
       "    .dataframe thead th {\n",
       "        text-align: right;\n",
       "    }\n",
       "</style>\n",
       "<table border=\"1\" class=\"dataframe\">\n",
       "  <thead>\n",
       "    <tr style=\"text-align: right;\">\n",
       "      <th></th>\n",
       "      <th>subject</th>\n",
       "      <th>predicate</th>\n",
       "      <th>object</th>\n",
       "    </tr>\n",
       "  </thead>\n",
       "  <tbody>\n",
       "    <tr>\n",
       "      <th>0</th>\n",
       "      <td>b80344d063b5ccb3212f76538f3d9e43d87dca9e</td>\n",
       "      <td>listens_to</td>\n",
       "      <td>Entre Dos Aguas</td>\n",
       "    </tr>\n",
       "    <tr>\n",
       "      <th>1</th>\n",
       "      <td>b80344d063b5ccb3212f76538f3d9e43d87dca9e</td>\n",
       "      <td>listen_count</td>\n",
       "      <td>2</td>\n",
       "    </tr>\n",
       "    <tr>\n",
       "      <th>2</th>\n",
       "      <td>2</td>\n",
       "      <td>for_track</td>\n",
       "      <td>Entre Dos Aguas</td>\n",
       "    </tr>\n",
       "    <tr>\n",
       "      <th>3</th>\n",
       "      <td>Entre Dos Aguas</td>\n",
       "      <td>made_by</td>\n",
       "      <td>Paco De Lucia</td>\n",
       "    </tr>\n",
       "    <tr>\n",
       "      <th>4</th>\n",
       "      <td>Entre Dos Aguas</td>\n",
       "      <td>belongs_to</td>\n",
       "      <td>Flamenco Para Niños</td>\n",
       "    </tr>\n",
       "    <tr>\n",
       "      <th>5</th>\n",
       "      <td>17aa9f6dbdf753831da8f38c71b66b64373de613</td>\n",
       "      <td>listens_to</td>\n",
       "      <td>Year 3000</td>\n",
       "    </tr>\n",
       "    <tr>\n",
       "      <th>6</th>\n",
       "      <td>17aa9f6dbdf753831da8f38c71b66b64373de613</td>\n",
       "      <td>listen_count</td>\n",
       "      <td>1</td>\n",
       "    </tr>\n",
       "    <tr>\n",
       "      <th>7</th>\n",
       "      <td>1</td>\n",
       "      <td>for_track</td>\n",
       "      <td>Year 3000</td>\n",
       "    </tr>\n",
       "    <tr>\n",
       "      <th>8</th>\n",
       "      <td>Year 3000</td>\n",
       "      <td>made_by</td>\n",
       "      <td>Jonas Brothers</td>\n",
       "    </tr>\n",
       "    <tr>\n",
       "      <th>9</th>\n",
       "      <td>Year 3000</td>\n",
       "      <td>belongs_to</td>\n",
       "      <td>S.O.S</td>\n",
       "    </tr>\n",
       "  </tbody>\n",
       "</table>\n",
       "</div>"
      ],
      "text/plain": [
       "                                    subject     predicate               object\n",
       "0  b80344d063b5ccb3212f76538f3d9e43d87dca9e    listens_to      Entre Dos Aguas\n",
       "1  b80344d063b5ccb3212f76538f3d9e43d87dca9e  listen_count                    2\n",
       "2                                         2     for_track      Entre Dos Aguas\n",
       "3                           Entre Dos Aguas       made_by        Paco De Lucia\n",
       "4                           Entre Dos Aguas    belongs_to  Flamenco Para Niños\n",
       "5  17aa9f6dbdf753831da8f38c71b66b64373de613    listens_to            Year 3000\n",
       "6  17aa9f6dbdf753831da8f38c71b66b64373de613  listen_count                    1\n",
       "7                                         1     for_track            Year 3000\n",
       "8                                 Year 3000       made_by       Jonas Brothers\n",
       "9                                 Year 3000    belongs_to                S.O.S"
      ]
     },
     "execution_count": 19,
     "metadata": {},
     "output_type": "execute_result"
    }
   ],
   "source": [
    "triple_df_f.head(10)"
   ]
  },
  {
   "cell_type": "code",
   "execution_count": 20,
   "id": "fbe3b7a2",
   "metadata": {},
   "outputs": [
    {
     "data": {
      "text/html": [
       "<div>\n",
       "<style scoped>\n",
       "    .dataframe tbody tr th:only-of-type {\n",
       "        vertical-align: middle;\n",
       "    }\n",
       "\n",
       "    .dataframe tbody tr th {\n",
       "        vertical-align: top;\n",
       "    }\n",
       "\n",
       "    .dataframe thead th {\n",
       "        text-align: right;\n",
       "    }\n",
       "</style>\n",
       "<table border=\"1\" class=\"dataframe\">\n",
       "  <thead>\n",
       "    <tr style=\"text-align: right;\">\n",
       "      <th></th>\n",
       "      <th>subject</th>\n",
       "      <th>predicate</th>\n",
       "      <th>object</th>\n",
       "    </tr>\n",
       "  </thead>\n",
       "  <tbody>\n",
       "    <tr>\n",
       "      <th>0</th>\n",
       "      <td>b80344d063b5ccb3212f76538f3d9e43d87dca9e</td>\n",
       "      <td>listens_to</td>\n",
       "      <td>Entre Dos Aguas</td>\n",
       "    </tr>\n",
       "    <tr>\n",
       "      <th>2</th>\n",
       "      <td>2</td>\n",
       "      <td>for_track</td>\n",
       "      <td>Entre Dos Aguas</td>\n",
       "    </tr>\n",
       "    <tr>\n",
       "      <th>3</th>\n",
       "      <td>Entre Dos Aguas</td>\n",
       "      <td>made_by</td>\n",
       "      <td>Paco De Lucia</td>\n",
       "    </tr>\n",
       "    <tr>\n",
       "      <th>4</th>\n",
       "      <td>Entre Dos Aguas</td>\n",
       "      <td>belongs_to</td>\n",
       "      <td>Flamenco Para Niños</td>\n",
       "    </tr>\n",
       "    <tr>\n",
       "      <th>105</th>\n",
       "      <td>930d2be6c85315d72cab9823ec0f7bfe7e477794</td>\n",
       "      <td>listens_to</td>\n",
       "      <td>Entre Dos Aguas</td>\n",
       "    </tr>\n",
       "    <tr>\n",
       "      <th>...</th>\n",
       "      <td>...</td>\n",
       "      <td>...</td>\n",
       "      <td>...</td>\n",
       "    </tr>\n",
       "    <tr>\n",
       "      <th>100280</th>\n",
       "      <td>d141dc1fdd870ac7f42c16cc02b08f1d1619c173</td>\n",
       "      <td>listens_to</td>\n",
       "      <td>Entre Dos Aguas</td>\n",
       "    </tr>\n",
       "    <tr>\n",
       "      <th>100540</th>\n",
       "      <td>f61f8d2809fbbc741b470fdde297c5d736235c5f</td>\n",
       "      <td>listens_to</td>\n",
       "      <td>Entre Dos Aguas</td>\n",
       "    </tr>\n",
       "    <tr>\n",
       "      <th>101075</th>\n",
       "      <td>4fb6065ba02f5a9d1b2c937115193562bb0fdc5b</td>\n",
       "      <td>listens_to</td>\n",
       "      <td>Entre Dos Aguas</td>\n",
       "    </tr>\n",
       "    <tr>\n",
       "      <th>104195</th>\n",
       "      <td>4f3aa3be0f511e71a41998c3b1d9a7f350bc0bb8</td>\n",
       "      <td>listens_to</td>\n",
       "      <td>Entre Dos Aguas</td>\n",
       "    </tr>\n",
       "    <tr>\n",
       "      <th>104375</th>\n",
       "      <td>e2b3abe8a84dc8923aba2ba482d4b6e8d90697cf</td>\n",
       "      <td>listens_to</td>\n",
       "      <td>Entre Dos Aguas</td>\n",
       "    </tr>\n",
       "  </tbody>\n",
       "</table>\n",
       "<p>176 rows × 3 columns</p>\n",
       "</div>"
      ],
      "text/plain": [
       "                                         subject   predicate  \\\n",
       "0       b80344d063b5ccb3212f76538f3d9e43d87dca9e  listens_to   \n",
       "2                                              2   for_track   \n",
       "3                                Entre Dos Aguas     made_by   \n",
       "4                                Entre Dos Aguas  belongs_to   \n",
       "105     930d2be6c85315d72cab9823ec0f7bfe7e477794  listens_to   \n",
       "...                                          ...         ...   \n",
       "100280  d141dc1fdd870ac7f42c16cc02b08f1d1619c173  listens_to   \n",
       "100540  f61f8d2809fbbc741b470fdde297c5d736235c5f  listens_to   \n",
       "101075  4fb6065ba02f5a9d1b2c937115193562bb0fdc5b  listens_to   \n",
       "104195  4f3aa3be0f511e71a41998c3b1d9a7f350bc0bb8  listens_to   \n",
       "104375  e2b3abe8a84dc8923aba2ba482d4b6e8d90697cf  listens_to   \n",
       "\n",
       "                     object  \n",
       "0           Entre Dos Aguas  \n",
       "2           Entre Dos Aguas  \n",
       "3             Paco De Lucia  \n",
       "4       Flamenco Para Niños  \n",
       "105         Entre Dos Aguas  \n",
       "...                     ...  \n",
       "100280      Entre Dos Aguas  \n",
       "100540      Entre Dos Aguas  \n",
       "101075      Entre Dos Aguas  \n",
       "104195      Entre Dos Aguas  \n",
       "104375      Entre Dos Aguas  \n",
       "\n",
       "[176 rows x 3 columns]"
      ]
     },
     "execution_count": 20,
     "metadata": {},
     "output_type": "execute_result"
    }
   ],
   "source": [
    "triple_df_f[(triple_df_f.subject == \"Entre Dos Aguas\") | (triple_df_f.object == \"Entre Dos Aguas\")]"
   ]
  },
  {
   "cell_type": "code",
   "execution_count": 21,
   "id": "883a59c2",
   "metadata": {},
   "outputs": [],
   "source": [
    "triple_df_f.to_pickle('triple.pkl')"
   ]
  },
  {
   "cell_type": "code",
   "execution_count": 22,
   "id": "e71b7457",
   "metadata": {},
   "outputs": [
    {
     "name": "stdout",
     "output_type": "stream",
     "text": [
      "<class 'pandas.core.frame.DataFrame'>\n",
      "Int64Index: 20920 entries, 1 to 1999955\n",
      "Data columns (total 3 columns):\n",
      " #   Column        Non-Null Count  Dtype \n",
      "---  ------        --------------  ----- \n",
      " 0   user_id       20920 non-null  object\n",
      " 1   song_id       20920 non-null  object\n",
      " 2   listen_count  20920 non-null  int64 \n",
      "dtypes: int64(1), object(2)\n",
      "memory usage: 1.1+ MB\n"
     ]
    }
   ],
   "source": [
    "df_u.info()"
   ]
  },
  {
   "cell_type": "code",
   "execution_count": 23,
   "id": "3b365ba3",
   "metadata": {},
   "outputs": [
    {
     "data": {
      "text/plain": [
       "array([['b80344d063b5ccb3212f76538f3d9e43d87dca9e', 'listens_to',\n",
       "        'Entre Dos Aguas'],\n",
       "       ['b80344d063b5ccb3212f76538f3d9e43d87dca9e', 'listen_count', '2'],\n",
       "       ['2', 'for_track', 'Entre Dos Aguas'],\n",
       "       ...,\n",
       "       ['What Am I Gonna Do', 'belongs_to', 'The Legendary Kenny Rogers'],\n",
       "       ['Little Drummer Boy', 'made_by', 'Nat Stuckey'],\n",
       "       ['Little Drummer Boy', 'belongs_to', 'Classic Country Christmas']],\n",
       "      dtype=object)"
      ]
     },
     "execution_count": 23,
     "metadata": {},
     "output_type": "execute_result"
    }
   ],
   "source": [
    "triple_df_f.to_numpy()"
   ]
  },
  {
   "cell_type": "code",
   "execution_count": 24,
   "id": "37e8ea68",
   "metadata": {},
   "outputs": [],
   "source": [
    "triple_df_f.to_csv('triple.csv')"
   ]
  },
  {
   "cell_type": "code",
   "execution_count": 25,
   "id": "96f5a560",
   "metadata": {},
   "outputs": [],
   "source": [
    "import numpy as np"
   ]
  },
  {
   "cell_type": "code",
   "execution_count": 26,
   "id": "4e775a6c",
   "metadata": {},
   "outputs": [
    {
     "data": {
      "text/plain": [
       "42832"
      ]
     },
     "execution_count": 26,
     "metadata": {},
     "output_type": "execute_result"
    }
   ],
   "source": [
    "all_entities = np.array(list(set(triple_df_f.values[:, 0]).union(triple_df_f.values[:, 2])))\n",
    "len(all_entities)"
   ]
  },
  {
   "cell_type": "code",
   "execution_count": 27,
   "id": "076a756c",
   "metadata": {},
   "outputs": [
    {
     "data": {
      "text/plain": [
       "array(['Schizo', '20993111a592f725ba5b6335709e5069dfda2fa9',\n",
       "       'd000d1e6b37fd9584f1a3a1580b70ce82aa83e16', ...,\n",
       "       '6fe75af9382cfd0af30e3caade94578db00a9001', 'At Fifteen',\n",
       "       'Soda Stereo'], dtype='<U188')"
      ]
     },
     "execution_count": 27,
     "metadata": {},
     "output_type": "execute_result"
    }
   ],
   "source": [
    "all_entities"
   ]
  },
  {
   "cell_type": "markdown",
   "id": "63281ffd",
   "metadata": {},
   "source": [
    "New Triples (with tags and year instead of album)"
   ]
  },
  {
   "cell_type": "code",
   "execution_count": 44,
   "id": "670b5b56",
   "metadata": {},
   "outputs": [
    {
     "name": "stdout",
     "output_type": "stream",
     "text": [
      "Flamenco\n",
      "guitar\n",
      "spanish\n",
      "instrumental\n",
      "guitar virtuoso\n"
     ]
    }
   ],
   "source": [
    "t = df_s[df_s['song_id'] == df_u['song_id'][1]]\n",
    "ts = t['tag']\n",
    "for i in ts:\n",
    "    if i == []:\n",
    "        print('n/a')\n",
    "    else:\n",
    "        for j in i:\n",
    "            print(j)"
   ]
  },
  {
   "cell_type": "code",
   "execution_count": 46,
   "id": "65cc89ca",
   "metadata": {},
   "outputs": [
    {
     "data": {
      "text/html": [
       "<div>\n",
       "<style scoped>\n",
       "    .dataframe tbody tr th:only-of-type {\n",
       "        vertical-align: middle;\n",
       "    }\n",
       "\n",
       "    .dataframe tbody tr th {\n",
       "        vertical-align: top;\n",
       "    }\n",
       "\n",
       "    .dataframe thead th {\n",
       "        text-align: right;\n",
       "    }\n",
       "</style>\n",
       "<table border=\"1\" class=\"dataframe\">\n",
       "  <thead>\n",
       "    <tr style=\"text-align: right;\">\n",
       "      <th></th>\n",
       "      <th>subject</th>\n",
       "      <th>predicate</th>\n",
       "      <th>object</th>\n",
       "    </tr>\n",
       "  </thead>\n",
       "  <tbody>\n",
       "    <tr>\n",
       "      <th>0</th>\n",
       "      <td>b80344d063b5ccb3212f76538f3d9e43d87dca9e</td>\n",
       "      <td>listens_to</td>\n",
       "      <td>Entre Dos Aguas</td>\n",
       "    </tr>\n",
       "    <tr>\n",
       "      <th>1</th>\n",
       "      <td>b80344d063b5ccb3212f76538f3d9e43d87dca9e</td>\n",
       "      <td>listen_count</td>\n",
       "      <td>2</td>\n",
       "    </tr>\n",
       "    <tr>\n",
       "      <th>2</th>\n",
       "      <td>2</td>\n",
       "      <td>for_track</td>\n",
       "      <td>Entre Dos Aguas</td>\n",
       "    </tr>\n",
       "    <tr>\n",
       "      <th>3</th>\n",
       "      <td>17aa9f6dbdf753831da8f38c71b66b64373de613</td>\n",
       "      <td>listens_to</td>\n",
       "      <td>Year 3000</td>\n",
       "    </tr>\n",
       "    <tr>\n",
       "      <th>4</th>\n",
       "      <td>17aa9f6dbdf753831da8f38c71b66b64373de613</td>\n",
       "      <td>listen_count</td>\n",
       "      <td>1</td>\n",
       "    </tr>\n",
       "    <tr>\n",
       "      <th>5</th>\n",
       "      <td>1</td>\n",
       "      <td>for_track</td>\n",
       "      <td>Year 3000</td>\n",
       "    </tr>\n",
       "    <tr>\n",
       "      <th>6</th>\n",
       "      <td>d6589314c0a9bcbca4fee0c93b14bc402363afea</td>\n",
       "      <td>listens_to</td>\n",
       "      <td>Anyone Else But You</td>\n",
       "    </tr>\n",
       "    <tr>\n",
       "      <th>7</th>\n",
       "      <td>d6589314c0a9bcbca4fee0c93b14bc402363afea</td>\n",
       "      <td>listen_count</td>\n",
       "      <td>6</td>\n",
       "    </tr>\n",
       "    <tr>\n",
       "      <th>8</th>\n",
       "      <td>6</td>\n",
       "      <td>for_track</td>\n",
       "      <td>Anyone Else But You</td>\n",
       "    </tr>\n",
       "    <tr>\n",
       "      <th>9</th>\n",
       "      <td>5a905f000fc1ff3df7ca807d57edb608863db05d</td>\n",
       "      <td>listens_to</td>\n",
       "      <td>Face To Face (Cosmo VItelli Remix)</td>\n",
       "    </tr>\n",
       "  </tbody>\n",
       "</table>\n",
       "</div>"
      ],
      "text/plain": [
       "                                    subject     predicate  \\\n",
       "0  b80344d063b5ccb3212f76538f3d9e43d87dca9e    listens_to   \n",
       "1  b80344d063b5ccb3212f76538f3d9e43d87dca9e  listen_count   \n",
       "2                                         2     for_track   \n",
       "3  17aa9f6dbdf753831da8f38c71b66b64373de613    listens_to   \n",
       "4  17aa9f6dbdf753831da8f38c71b66b64373de613  listen_count   \n",
       "5                                         1     for_track   \n",
       "6  d6589314c0a9bcbca4fee0c93b14bc402363afea    listens_to   \n",
       "7  d6589314c0a9bcbca4fee0c93b14bc402363afea  listen_count   \n",
       "8                                         6     for_track   \n",
       "9  5a905f000fc1ff3df7ca807d57edb608863db05d    listens_to   \n",
       "\n",
       "                               object  \n",
       "0                     Entre Dos Aguas  \n",
       "1                                   2  \n",
       "2                     Entre Dos Aguas  \n",
       "3                           Year 3000  \n",
       "4                                   1  \n",
       "5                           Year 3000  \n",
       "6                 Anyone Else But You  \n",
       "7                                   6  \n",
       "8                 Anyone Else But You  \n",
       "9  Face To Face (Cosmo VItelli Remix)  "
      ]
     },
     "execution_count": 46,
     "metadata": {},
     "output_type": "execute_result"
    }
   ],
   "source": [
    "triple_user = []\n",
    "for _, rows in df_u.iterrows():\n",
    "    temp = df_s.loc[df_s['song_id'] == rows['song_id']]\n",
    "    temp_title = temp['title'].tolist()\n",
    "    temp_artist = temp['artist_name'].tolist()\n",
    "    t = (str(rows['user_id']), 'listens_to', str(temp_title[0]))\n",
    "    tc = (str(rows['user_id']), 'listen_count', str(rows['listen_count']))\n",
    "    tu = (str(rows['listen_count']), 'for_track', str(temp_title[0]))\n",
    "    triple_user.extend((t, tc, tu))\n",
    "triples_user_df = pd.DataFrame(triple_user, columns=['subject', 'predicate', 'object'])\n",
    "triples_user_df.head(10)"
   ]
  },
  {
   "cell_type": "code",
   "execution_count": 58,
   "id": "e1576f72",
   "metadata": {},
   "outputs": [
    {
     "data": {
      "text/plain": [
       "68"
      ]
     },
     "execution_count": 58,
     "metadata": {},
     "output_type": "execute_result"
    }
   ],
   "source": [
    "df_s['year'].nunique()"
   ]
  },
  {
   "cell_type": "code",
   "execution_count": 67,
   "id": "f21ed0ff",
   "metadata": {},
   "outputs": [],
   "source": [
    "triple_metadata = []\n",
    "triple_tag = []\n",
    "for _, r in df_s.iterrows():\n",
    "    t = (str(r['title']), 'made_by', str(r['artist_name']))\n",
    "    y = (str(r['title']), 'release_in', str(r['year']))\n",
    "    a = (str(r['title']), 'belongs_to_album', str(r['release']))\n",
    "    triple_metadata.extend((t, y, a))\n",
    "    if r['tag'] == []:\n",
    "        pass\n",
    "    else:\n",
    "        for i in r['tag']:\n",
    "            triple_tag.append((str(r['title']), 'belongs_to_genre', str(i)))\n",
    "triple_md_df = pd.DataFrame(triple_metadata, columns=['subject', 'predicate', 'object'])\n",
    "triple_tag_df = pd.DataFrame(triple_tag, columns=['subject', 'predicate', 'object'])"
   ]
  },
  {
   "cell_type": "code",
   "execution_count": 68,
   "id": "5beb16f7",
   "metadata": {},
   "outputs": [
    {
     "data": {
      "text/html": [
       "<div>\n",
       "<style scoped>\n",
       "    .dataframe tbody tr th:only-of-type {\n",
       "        vertical-align: middle;\n",
       "    }\n",
       "\n",
       "    .dataframe tbody tr th {\n",
       "        vertical-align: top;\n",
       "    }\n",
       "\n",
       "    .dataframe thead th {\n",
       "        text-align: right;\n",
       "    }\n",
       "</style>\n",
       "<table border=\"1\" class=\"dataframe\">\n",
       "  <thead>\n",
       "    <tr style=\"text-align: right;\">\n",
       "      <th></th>\n",
       "      <th>subject</th>\n",
       "      <th>predicate</th>\n",
       "      <th>object</th>\n",
       "    </tr>\n",
       "  </thead>\n",
       "  <tbody>\n",
       "    <tr>\n",
       "      <th>0</th>\n",
       "      <td>Silent Night</td>\n",
       "      <td>made_by</td>\n",
       "      <td>Faster Pussy cat</td>\n",
       "    </tr>\n",
       "    <tr>\n",
       "      <th>1</th>\n",
       "      <td>Silent Night</td>\n",
       "      <td>release_in</td>\n",
       "      <td>2003</td>\n",
       "    </tr>\n",
       "    <tr>\n",
       "      <th>2</th>\n",
       "      <td>Silent Night</td>\n",
       "      <td>belongs_to_album</td>\n",
       "      <td>Monster Ballads X-Mas</td>\n",
       "    </tr>\n",
       "    <tr>\n",
       "      <th>3</th>\n",
       "      <td>Tanssi vaan</td>\n",
       "      <td>made_by</td>\n",
       "      <td>Karkkiautomaatti</td>\n",
       "    </tr>\n",
       "    <tr>\n",
       "      <th>4</th>\n",
       "      <td>Tanssi vaan</td>\n",
       "      <td>release_in</td>\n",
       "      <td>1995</td>\n",
       "    </tr>\n",
       "  </tbody>\n",
       "</table>\n",
       "</div>"
      ],
      "text/plain": [
       "        subject         predicate                 object\n",
       "0  Silent Night           made_by       Faster Pussy cat\n",
       "1  Silent Night        release_in                   2003\n",
       "2  Silent Night  belongs_to_album  Monster Ballads X-Mas\n",
       "3   Tanssi vaan           made_by       Karkkiautomaatti\n",
       "4   Tanssi vaan        release_in                   1995"
      ]
     },
     "execution_count": 68,
     "metadata": {},
     "output_type": "execute_result"
    }
   ],
   "source": [
    "triple_md_df.head(5)"
   ]
  },
  {
   "cell_type": "code",
   "execution_count": 69,
   "id": "b05e0826",
   "metadata": {},
   "outputs": [
    {
     "data": {
      "text/html": [
       "<div>\n",
       "<style scoped>\n",
       "    .dataframe tbody tr th:only-of-type {\n",
       "        vertical-align: middle;\n",
       "    }\n",
       "\n",
       "    .dataframe tbody tr th {\n",
       "        vertical-align: top;\n",
       "    }\n",
       "\n",
       "    .dataframe thead th {\n",
       "        text-align: right;\n",
       "    }\n",
       "</style>\n",
       "<table border=\"1\" class=\"dataframe\">\n",
       "  <thead>\n",
       "    <tr style=\"text-align: right;\">\n",
       "      <th></th>\n",
       "      <th>subject</th>\n",
       "      <th>predicate</th>\n",
       "      <th>object</th>\n",
       "    </tr>\n",
       "  </thead>\n",
       "  <tbody>\n",
       "    <tr>\n",
       "      <th>0</th>\n",
       "      <td>Silent Night</td>\n",
       "      <td>belongs_to_genre</td>\n",
       "      <td>christmas</td>\n",
       "    </tr>\n",
       "    <tr>\n",
       "      <th>1</th>\n",
       "      <td>Silent Night</td>\n",
       "      <td>belongs_to_genre</td>\n",
       "      <td>psychedelic</td>\n",
       "    </tr>\n",
       "    <tr>\n",
       "      <th>2</th>\n",
       "      <td>Silent Night</td>\n",
       "      <td>belongs_to_genre</td>\n",
       "      <td>weird</td>\n",
       "    </tr>\n",
       "    <tr>\n",
       "      <th>3</th>\n",
       "      <td>Silent Night</td>\n",
       "      <td>belongs_to_genre</td>\n",
       "      <td>metal</td>\n",
       "    </tr>\n",
       "    <tr>\n",
       "      <th>4</th>\n",
       "      <td>Silent Night</td>\n",
       "      <td>belongs_to_genre</td>\n",
       "      <td>rock</td>\n",
       "    </tr>\n",
       "  </tbody>\n",
       "</table>\n",
       "</div>"
      ],
      "text/plain": [
       "        subject         predicate       object\n",
       "0  Silent Night  belongs_to_genre    christmas\n",
       "1  Silent Night  belongs_to_genre  psychedelic\n",
       "2  Silent Night  belongs_to_genre        weird\n",
       "3  Silent Night  belongs_to_genre        metal\n",
       "4  Silent Night  belongs_to_genre         rock"
      ]
     },
     "execution_count": 69,
     "metadata": {},
     "output_type": "execute_result"
    }
   ],
   "source": [
    "triple_tag_df.head(5)"
   ]
  },
  {
   "cell_type": "code",
   "execution_count": 70,
   "id": "561f1e29",
   "metadata": {},
   "outputs": [
    {
     "name": "stdout",
     "output_type": "stream",
     "text": [
      "<class 'pandas.core.frame.DataFrame'>\n",
      "RangeIndex: 19462 entries, 0 to 19461\n",
      "Data columns (total 3 columns):\n",
      " #   Column     Non-Null Count  Dtype \n",
      "---  ------     --------------  ----- \n",
      " 0   subject    19462 non-null  object\n",
      " 1   predicate  19462 non-null  object\n",
      " 2   object     19462 non-null  object\n",
      "dtypes: object(3)\n",
      "memory usage: 456.3+ KB\n"
     ]
    }
   ],
   "source": [
    "triple_tag_df.info()"
   ]
  },
  {
   "cell_type": "code",
   "execution_count": 71,
   "id": "88a40604",
   "metadata": {},
   "outputs": [
    {
     "data": {
      "text/html": [
       "<div>\n",
       "<style scoped>\n",
       "    .dataframe tbody tr th:only-of-type {\n",
       "        vertical-align: middle;\n",
       "    }\n",
       "\n",
       "    .dataframe tbody tr th {\n",
       "        vertical-align: top;\n",
       "    }\n",
       "\n",
       "    .dataframe thead th {\n",
       "        text-align: right;\n",
       "    }\n",
       "</style>\n",
       "<table border=\"1\" class=\"dataframe\">\n",
       "  <thead>\n",
       "    <tr style=\"text-align: right;\">\n",
       "      <th></th>\n",
       "      <th>subject</th>\n",
       "      <th>predicate</th>\n",
       "      <th>object</th>\n",
       "    </tr>\n",
       "  </thead>\n",
       "  <tbody>\n",
       "    <tr>\n",
       "      <th>0</th>\n",
       "      <td>b80344d063b5ccb3212f76538f3d9e43d87dca9e</td>\n",
       "      <td>listens_to</td>\n",
       "      <td>Entre Dos Aguas</td>\n",
       "    </tr>\n",
       "    <tr>\n",
       "      <th>1</th>\n",
       "      <td>b80344d063b5ccb3212f76538f3d9e43d87dca9e</td>\n",
       "      <td>listen_count</td>\n",
       "      <td>2</td>\n",
       "    </tr>\n",
       "    <tr>\n",
       "      <th>2</th>\n",
       "      <td>2</td>\n",
       "      <td>for_track</td>\n",
       "      <td>Entre Dos Aguas</td>\n",
       "    </tr>\n",
       "    <tr>\n",
       "      <th>3</th>\n",
       "      <td>17aa9f6dbdf753831da8f38c71b66b64373de613</td>\n",
       "      <td>listens_to</td>\n",
       "      <td>Year 3000</td>\n",
       "    </tr>\n",
       "    <tr>\n",
       "      <th>4</th>\n",
       "      <td>17aa9f6dbdf753831da8f38c71b66b64373de613</td>\n",
       "      <td>listen_count</td>\n",
       "      <td>1</td>\n",
       "    </tr>\n",
       "    <tr>\n",
       "      <th>5</th>\n",
       "      <td>1</td>\n",
       "      <td>for_track</td>\n",
       "      <td>Year 3000</td>\n",
       "    </tr>\n",
       "    <tr>\n",
       "      <th>6</th>\n",
       "      <td>d6589314c0a9bcbca4fee0c93b14bc402363afea</td>\n",
       "      <td>listens_to</td>\n",
       "      <td>Anyone Else But You</td>\n",
       "    </tr>\n",
       "    <tr>\n",
       "      <th>7</th>\n",
       "      <td>d6589314c0a9bcbca4fee0c93b14bc402363afea</td>\n",
       "      <td>listen_count</td>\n",
       "      <td>6</td>\n",
       "    </tr>\n",
       "    <tr>\n",
       "      <th>8</th>\n",
       "      <td>6</td>\n",
       "      <td>for_track</td>\n",
       "      <td>Anyone Else But You</td>\n",
       "    </tr>\n",
       "    <tr>\n",
       "      <th>9</th>\n",
       "      <td>5a905f000fc1ff3df7ca807d57edb608863db05d</td>\n",
       "      <td>listens_to</td>\n",
       "      <td>Face To Face (Cosmo VItelli Remix)</td>\n",
       "    </tr>\n",
       "  </tbody>\n",
       "</table>\n",
       "</div>"
      ],
      "text/plain": [
       "                                    subject     predicate  \\\n",
       "0  b80344d063b5ccb3212f76538f3d9e43d87dca9e    listens_to   \n",
       "1  b80344d063b5ccb3212f76538f3d9e43d87dca9e  listen_count   \n",
       "2                                         2     for_track   \n",
       "3  17aa9f6dbdf753831da8f38c71b66b64373de613    listens_to   \n",
       "4  17aa9f6dbdf753831da8f38c71b66b64373de613  listen_count   \n",
       "5                                         1     for_track   \n",
       "6  d6589314c0a9bcbca4fee0c93b14bc402363afea    listens_to   \n",
       "7  d6589314c0a9bcbca4fee0c93b14bc402363afea  listen_count   \n",
       "8                                         6     for_track   \n",
       "9  5a905f000fc1ff3df7ca807d57edb608863db05d    listens_to   \n",
       "\n",
       "                               object  \n",
       "0                     Entre Dos Aguas  \n",
       "1                                   2  \n",
       "2                     Entre Dos Aguas  \n",
       "3                           Year 3000  \n",
       "4                                   1  \n",
       "5                           Year 3000  \n",
       "6                 Anyone Else But You  \n",
       "7                                   6  \n",
       "8                 Anyone Else But You  \n",
       "9  Face To Face (Cosmo VItelli Remix)  "
      ]
     },
     "execution_count": 71,
     "metadata": {},
     "output_type": "execute_result"
    }
   ],
   "source": [
    "triple_all_df = pd.concat([triples_user_df, triple_md_df, triple_tag_df], axis=0)\n",
    "triple_all_df.head(10)"
   ]
  },
  {
   "cell_type": "code",
   "execution_count": 72,
   "id": "6e1ad0e1",
   "metadata": {},
   "outputs": [
    {
     "name": "stdout",
     "output_type": "stream",
     "text": [
      "<class 'pandas.core.frame.DataFrame'>\n",
      "Int64Index: 112222 entries, 0 to 19461\n",
      "Data columns (total 3 columns):\n",
      " #   Column     Non-Null Count   Dtype \n",
      "---  ------     --------------   ----- \n",
      " 0   subject    112222 non-null  object\n",
      " 1   predicate  112222 non-null  object\n",
      " 2   object     112222 non-null  object\n",
      "dtypes: object(3)\n",
      "memory usage: 3.4+ MB\n"
     ]
    }
   ],
   "source": [
    "triple_all_df.info()"
   ]
  },
  {
   "cell_type": "code",
   "execution_count": 74,
   "id": "bb5edc32",
   "metadata": {},
   "outputs": [
    {
     "data": {
      "text/plain": [
       "21873"
      ]
     },
     "execution_count": 74,
     "metadata": {},
     "output_type": "execute_result"
    }
   ],
   "source": [
    "triple_all_df.duplicated().sum()"
   ]
  },
  {
   "cell_type": "code",
   "execution_count": 75,
   "id": "53633968",
   "metadata": {},
   "outputs": [
    {
     "data": {
      "text/plain": [
       "21737"
      ]
     },
     "execution_count": 75,
     "metadata": {},
     "output_type": "execute_result"
    }
   ],
   "source": [
    "triples_user_df.duplicated().sum()"
   ]
  },
  {
   "cell_type": "code",
   "execution_count": 76,
   "id": "e18796af",
   "metadata": {},
   "outputs": [
    {
     "data": {
      "text/plain": [
       "76"
      ]
     },
     "execution_count": 76,
     "metadata": {},
     "output_type": "execute_result"
    }
   ],
   "source": [
    "triple_md_df.duplicated().sum()"
   ]
  },
  {
   "cell_type": "code",
   "execution_count": 77,
   "id": "1e64bb79",
   "metadata": {},
   "outputs": [
    {
     "data": {
      "text/plain": [
       "60"
      ]
     },
     "execution_count": 77,
     "metadata": {},
     "output_type": "execute_result"
    }
   ],
   "source": [
    "triple_tag_df.duplicated().sum()"
   ]
  },
  {
   "cell_type": "code",
   "execution_count": 78,
   "id": "9ea38387",
   "metadata": {},
   "outputs": [
    {
     "data": {
      "text/plain": [
       "0"
      ]
     },
     "execution_count": 78,
     "metadata": {},
     "output_type": "execute_result"
    }
   ],
   "source": [
    "df_s['song_id'].duplicated().sum()"
   ]
  },
  {
   "cell_type": "code",
   "execution_count": 79,
   "id": "07a8b98d",
   "metadata": {},
   "outputs": [
    {
     "data": {
      "text/plain": [
       "223"
      ]
     },
     "execution_count": 79,
     "metadata": {},
     "output_type": "execute_result"
    }
   ],
   "source": [
    "df_s['title'].duplicated().sum()"
   ]
  },
  {
   "cell_type": "code",
   "execution_count": 84,
   "id": "424d6ee5",
   "metadata": {},
   "outputs": [],
   "source": [
    "triple_all_df = triple_all_df.drop_duplicates()"
   ]
  },
  {
   "cell_type": "code",
   "execution_count": 85,
   "id": "517ddeac",
   "metadata": {},
   "outputs": [
    {
     "data": {
      "text/html": [
       "<div>\n",
       "<style scoped>\n",
       "    .dataframe tbody tr th:only-of-type {\n",
       "        vertical-align: middle;\n",
       "    }\n",
       "\n",
       "    .dataframe tbody tr th {\n",
       "        vertical-align: top;\n",
       "    }\n",
       "\n",
       "    .dataframe thead th {\n",
       "        text-align: right;\n",
       "    }\n",
       "</style>\n",
       "<table border=\"1\" class=\"dataframe\">\n",
       "  <thead>\n",
       "    <tr style=\"text-align: right;\">\n",
       "      <th></th>\n",
       "      <th>subject</th>\n",
       "      <th>predicate</th>\n",
       "      <th>object</th>\n",
       "    </tr>\n",
       "  </thead>\n",
       "  <tbody>\n",
       "    <tr>\n",
       "      <th>0</th>\n",
       "      <td>b80344d063b5ccb3212f76538f3d9e43d87dca9e</td>\n",
       "      <td>listens_to</td>\n",
       "      <td>Entre Dos Aguas</td>\n",
       "    </tr>\n",
       "    <tr>\n",
       "      <th>2</th>\n",
       "      <td>2</td>\n",
       "      <td>for_track</td>\n",
       "      <td>Entre Dos Aguas</td>\n",
       "    </tr>\n",
       "    <tr>\n",
       "      <th>63</th>\n",
       "      <td>930d2be6c85315d72cab9823ec0f7bfe7e477794</td>\n",
       "      <td>listens_to</td>\n",
       "      <td>Entre Dos Aguas</td>\n",
       "    </tr>\n",
       "    <tr>\n",
       "      <th>65</th>\n",
       "      <td>1</td>\n",
       "      <td>for_track</td>\n",
       "      <td>Entre Dos Aguas</td>\n",
       "    </tr>\n",
       "    <tr>\n",
       "      <th>780</th>\n",
       "      <td>41c12ce05f18b757d9257e5ad4f8303b4b8a8758</td>\n",
       "      <td>listens_to</td>\n",
       "      <td>Entre Dos Aguas</td>\n",
       "    </tr>\n",
       "    <tr>\n",
       "      <th>...</th>\n",
       "      <td>...</td>\n",
       "      <td>...</td>\n",
       "      <td>...</td>\n",
       "    </tr>\n",
       "    <tr>\n",
       "      <th>9634</th>\n",
       "      <td>Entre Dos Aguas</td>\n",
       "      <td>belongs_to_genre</td>\n",
       "      <td>Flamenco</td>\n",
       "    </tr>\n",
       "    <tr>\n",
       "      <th>9635</th>\n",
       "      <td>Entre Dos Aguas</td>\n",
       "      <td>belongs_to_genre</td>\n",
       "      <td>guitar</td>\n",
       "    </tr>\n",
       "    <tr>\n",
       "      <th>9636</th>\n",
       "      <td>Entre Dos Aguas</td>\n",
       "      <td>belongs_to_genre</td>\n",
       "      <td>spanish</td>\n",
       "    </tr>\n",
       "    <tr>\n",
       "      <th>9637</th>\n",
       "      <td>Entre Dos Aguas</td>\n",
       "      <td>belongs_to_genre</td>\n",
       "      <td>instrumental</td>\n",
       "    </tr>\n",
       "    <tr>\n",
       "      <th>9638</th>\n",
       "      <td>Entre Dos Aguas</td>\n",
       "      <td>belongs_to_genre</td>\n",
       "      <td>guitar virtuoso</td>\n",
       "    </tr>\n",
       "  </tbody>\n",
       "</table>\n",
       "<p>182 rows × 3 columns</p>\n",
       "</div>"
      ],
      "text/plain": [
       "                                       subject         predicate  \\\n",
       "0     b80344d063b5ccb3212f76538f3d9e43d87dca9e        listens_to   \n",
       "2                                            2         for_track   \n",
       "63    930d2be6c85315d72cab9823ec0f7bfe7e477794        listens_to   \n",
       "65                                           1         for_track   \n",
       "780   41c12ce05f18b757d9257e5ad4f8303b4b8a8758        listens_to   \n",
       "...                                        ...               ...   \n",
       "9634                           Entre Dos Aguas  belongs_to_genre   \n",
       "9635                           Entre Dos Aguas  belongs_to_genre   \n",
       "9636                           Entre Dos Aguas  belongs_to_genre   \n",
       "9637                           Entre Dos Aguas  belongs_to_genre   \n",
       "9638                           Entre Dos Aguas  belongs_to_genre   \n",
       "\n",
       "               object  \n",
       "0     Entre Dos Aguas  \n",
       "2     Entre Dos Aguas  \n",
       "63    Entre Dos Aguas  \n",
       "65    Entre Dos Aguas  \n",
       "780   Entre Dos Aguas  \n",
       "...               ...  \n",
       "9634         Flamenco  \n",
       "9635           guitar  \n",
       "9636          spanish  \n",
       "9637     instrumental  \n",
       "9638  guitar virtuoso  \n",
       "\n",
       "[182 rows x 3 columns]"
      ]
     },
     "execution_count": 85,
     "metadata": {},
     "output_type": "execute_result"
    }
   ],
   "source": [
    "triple_all_df[(triple_all_df.subject == \"Entre Dos Aguas\") | (triple_all_df.object == \"Entre Dos Aguas\")]"
   ]
  },
  {
   "cell_type": "code",
   "execution_count": 86,
   "id": "41ea5c8c",
   "metadata": {},
   "outputs": [
    {
     "data": {
      "text/plain": [
       "0"
      ]
     },
     "execution_count": 86,
     "metadata": {},
     "output_type": "execute_result"
    }
   ],
   "source": [
    "triple_all_df.duplicated().sum()"
   ]
  },
  {
   "cell_type": "code",
   "execution_count": 87,
   "id": "09774729",
   "metadata": {},
   "outputs": [
    {
     "name": "stdout",
     "output_type": "stream",
     "text": [
      "<class 'pandas.core.frame.DataFrame'>\n",
      "Int64Index: 90349 entries, 0 to 19461\n",
      "Data columns (total 3 columns):\n",
      " #   Column     Non-Null Count  Dtype \n",
      "---  ------     --------------  ----- \n",
      " 0   subject    90349 non-null  object\n",
      " 1   predicate  90349 non-null  object\n",
      " 2   object     90349 non-null  object\n",
      "dtypes: object(3)\n",
      "memory usage: 2.8+ MB\n"
     ]
    }
   ],
   "source": [
    "triple_all_df.info()"
   ]
  },
  {
   "cell_type": "code",
   "execution_count": 91,
   "id": "226c6e4f",
   "metadata": {},
   "outputs": [],
   "source": [
    "pickle.dump(triple_all_df, open('all_triple.pkl', 'wb'))\n",
    "triple_all_df.to_csv('all_triple.csv')"
   ]
  },
  {
   "cell_type": "code",
   "execution_count": 95,
   "id": "49b53e48",
   "metadata": {},
   "outputs": [
    {
     "data": {
      "text/html": [
       "<div>\n",
       "<style scoped>\n",
       "    .dataframe tbody tr th:only-of-type {\n",
       "        vertical-align: middle;\n",
       "    }\n",
       "\n",
       "    .dataframe tbody tr th {\n",
       "        vertical-align: top;\n",
       "    }\n",
       "\n",
       "    .dataframe thead th {\n",
       "        text-align: right;\n",
       "    }\n",
       "</style>\n",
       "<table border=\"1\" class=\"dataframe\">\n",
       "  <thead>\n",
       "    <tr style=\"text-align: right;\">\n",
       "      <th></th>\n",
       "      <th>subject</th>\n",
       "      <th>predicate</th>\n",
       "      <th>object</th>\n",
       "    </tr>\n",
       "  </thead>\n",
       "  <tbody>\n",
       "    <tr>\n",
       "      <th>6</th>\n",
       "      <td>d6589314c0a9bcbca4fee0c93b14bc402363afea</td>\n",
       "      <td>listens_to</td>\n",
       "      <td>Anyone Else But You</td>\n",
       "    </tr>\n",
       "    <tr>\n",
       "      <th>7</th>\n",
       "      <td>d6589314c0a9bcbca4fee0c93b14bc402363afea</td>\n",
       "      <td>listen_count</td>\n",
       "      <td>6</td>\n",
       "    </tr>\n",
       "  </tbody>\n",
       "</table>\n",
       "</div>"
      ],
      "text/plain": [
       "                                    subject     predicate               object\n",
       "6  d6589314c0a9bcbca4fee0c93b14bc402363afea    listens_to  Anyone Else But You\n",
       "7  d6589314c0a9bcbca4fee0c93b14bc402363afea  listen_count                    6"
      ]
     },
     "execution_count": 95,
     "metadata": {},
     "output_type": "execute_result"
    }
   ],
   "source": [
    "triple_all_df[triple_all_df.subject == 'd6589314c0a9bcbca4fee0c93b14bc402363afea']"
   ]
  },
  {
   "cell_type": "code",
   "execution_count": 3,
   "id": "74aa76b7",
   "metadata": {},
   "outputs": [],
   "source": [
    "triple_all_df = pd.read_pickle('all_triple.pkl')"
   ]
  }
 ],
 "metadata": {
  "kernelspec": {
   "display_name": "Python 3 (ipykernel)",
   "language": "python",
   "name": "python3"
  },
  "language_info": {
   "codemirror_mode": {
    "name": "ipython",
    "version": 3
   },
   "file_extension": ".py",
   "mimetype": "text/x-python",
   "name": "python",
   "nbconvert_exporter": "python",
   "pygments_lexer": "ipython3",
   "version": "3.9.12"
  }
 },
 "nbformat": 4,
 "nbformat_minor": 5
}
